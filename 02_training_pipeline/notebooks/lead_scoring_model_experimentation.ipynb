{
 "cells": [
  {
   "cell_type": "markdown",
   "metadata": {
    "tags": []
   },
   "source": [
    "### 1 : Importing Libraries"
   ]
  },
  {
   "cell_type": "code",
   "execution_count": 1,
   "metadata": {
    "id": "AWb_Pph5GRXm"
   },
   "outputs": [],
   "source": [
    "# ignore the warnings in the output\n",
    "import warnings\n",
    "warnings.filterwarnings(\"ignore\")"
   ]
  },
  {
   "cell_type": "code",
   "execution_count": 2,
   "metadata": {},
   "outputs": [],
   "source": [
    "# import libraries and packages\n",
    "import numpy as np\n",
    "import pandas as pd \n",
    "import matplotlib.pyplot as plt\n",
    "import mlflow\n",
    "from pycaret.classification import *"
   ]
  },
  {
   "cell_type": "markdown",
   "metadata": {
    "tags": []
   },
   "source": [
    " ### 2 Reading Data"
   ]
  },
  {
   "cell_type": "code",
   "execution_count": 3,
   "metadata": {},
   "outputs": [
    {
     "name": "stdout",
     "output_type": "stream",
     "text": [
      "CPU times: user 2 µs, sys: 0 ns, total: 2 µs\n",
      "Wall time: 5.01 µs\n"
     ]
    }
   ],
   "source": [
    "##Copy the cleaned data obtained from the data_cleaning notebook into the Data folder before proceeding\n",
    "%time\n",
    "dataset = pd.read_csv('Data/cleaned_data.csv')"
   ]
  },
  {
   "cell_type": "code",
   "execution_count": 4,
   "metadata": {},
   "outputs": [
    {
     "data": {
      "text/html": [
       "<div>\n",
       "<style scoped>\n",
       "    .dataframe tbody tr th:only-of-type {\n",
       "        vertical-align: middle;\n",
       "    }\n",
       "\n",
       "    .dataframe tbody tr th {\n",
       "        vertical-align: top;\n",
       "    }\n",
       "\n",
       "    .dataframe thead th {\n",
       "        text-align: right;\n",
       "    }\n",
       "</style>\n",
       "<table border=\"1\" class=\"dataframe\">\n",
       "  <thead>\n",
       "    <tr style=\"text-align: right;\">\n",
       "      <th></th>\n",
       "      <th>created_date</th>\n",
       "      <th>city_tier</th>\n",
       "      <th>first_platform_c</th>\n",
       "      <th>first_utm_medium_c</th>\n",
       "      <th>first_utm_source_c</th>\n",
       "      <th>total_leads_droppped</th>\n",
       "      <th>referred_lead</th>\n",
       "      <th>app_complete_flag</th>\n",
       "      <th>assistance_interaction</th>\n",
       "      <th>career_interaction</th>\n",
       "      <th>payment_interaction</th>\n",
       "      <th>social_interaction</th>\n",
       "      <th>syllabus_interaction</th>\n",
       "    </tr>\n",
       "  </thead>\n",
       "  <tbody>\n",
       "    <tr>\n",
       "      <th>0</th>\n",
       "      <td>2021-07-01 00:08:15</td>\n",
       "      <td>1.0</td>\n",
       "      <td>Level0</td>\n",
       "      <td>Level11</td>\n",
       "      <td>Level2</td>\n",
       "      <td>1.0</td>\n",
       "      <td>0.0</td>\n",
       "      <td>1</td>\n",
       "      <td>0.0</td>\n",
       "      <td>0.0</td>\n",
       "      <td>0.0</td>\n",
       "      <td>0.0</td>\n",
       "      <td>0.0</td>\n",
       "    </tr>\n",
       "    <tr>\n",
       "      <th>1</th>\n",
       "      <td>2021-07-01 00:16:43</td>\n",
       "      <td>2.0</td>\n",
       "      <td>Level3</td>\n",
       "      <td>Level0</td>\n",
       "      <td>others</td>\n",
       "      <td>1.0</td>\n",
       "      <td>0.0</td>\n",
       "      <td>1</td>\n",
       "      <td>0.0</td>\n",
       "      <td>0.0</td>\n",
       "      <td>0.0</td>\n",
       "      <td>0.0</td>\n",
       "      <td>0.0</td>\n",
       "    </tr>\n",
       "    <tr>\n",
       "      <th>2</th>\n",
       "      <td>2021-07-01 00:22:20</td>\n",
       "      <td>1.0</td>\n",
       "      <td>Level3</td>\n",
       "      <td>Level0</td>\n",
       "      <td>Level0</td>\n",
       "      <td>1.0</td>\n",
       "      <td>0.0</td>\n",
       "      <td>1</td>\n",
       "      <td>0.0</td>\n",
       "      <td>0.0</td>\n",
       "      <td>0.0</td>\n",
       "      <td>0.0</td>\n",
       "      <td>0.0</td>\n",
       "    </tr>\n",
       "    <tr>\n",
       "      <th>3</th>\n",
       "      <td>2021-07-01 00:23:13</td>\n",
       "      <td>1.0</td>\n",
       "      <td>Level1</td>\n",
       "      <td>Level3</td>\n",
       "      <td>others</td>\n",
       "      <td>2.0</td>\n",
       "      <td>0.0</td>\n",
       "      <td>0</td>\n",
       "      <td>0.0</td>\n",
       "      <td>0.0</td>\n",
       "      <td>0.0</td>\n",
       "      <td>0.0</td>\n",
       "      <td>0.0</td>\n",
       "    </tr>\n",
       "    <tr>\n",
       "      <th>4</th>\n",
       "      <td>2021-07-01 00:28:38</td>\n",
       "      <td>1.0</td>\n",
       "      <td>Level3</td>\n",
       "      <td>Level0</td>\n",
       "      <td>Level0</td>\n",
       "      <td>1.0</td>\n",
       "      <td>0.0</td>\n",
       "      <td>0</td>\n",
       "      <td>0.0</td>\n",
       "      <td>0.0</td>\n",
       "      <td>0.0</td>\n",
       "      <td>0.0</td>\n",
       "      <td>0.0</td>\n",
       "    </tr>\n",
       "  </tbody>\n",
       "</table>\n",
       "</div>"
      ],
      "text/plain": [
       "          created_date  city_tier first_platform_c first_utm_medium_c  \\\n",
       "0  2021-07-01 00:08:15        1.0           Level0            Level11   \n",
       "1  2021-07-01 00:16:43        2.0           Level3             Level0   \n",
       "2  2021-07-01 00:22:20        1.0           Level3             Level0   \n",
       "3  2021-07-01 00:23:13        1.0           Level1             Level3   \n",
       "4  2021-07-01 00:28:38        1.0           Level3             Level0   \n",
       "\n",
       "  first_utm_source_c  total_leads_droppped  referred_lead  app_complete_flag  \\\n",
       "0             Level2                   1.0            0.0                  1   \n",
       "1             others                   1.0            0.0                  1   \n",
       "2             Level0                   1.0            0.0                  1   \n",
       "3             others                   2.0            0.0                  0   \n",
       "4             Level0                   1.0            0.0                  0   \n",
       "\n",
       "   assistance_interaction  career_interaction  payment_interaction  \\\n",
       "0                     0.0                 0.0                  0.0   \n",
       "1                     0.0                 0.0                  0.0   \n",
       "2                     0.0                 0.0                  0.0   \n",
       "3                     0.0                 0.0                  0.0   \n",
       "4                     0.0                 0.0                  0.0   \n",
       "\n",
       "   social_interaction  syllabus_interaction  \n",
       "0                 0.0                   0.0  \n",
       "1                 0.0                   0.0  \n",
       "2                 0.0                   0.0  \n",
       "3                 0.0                   0.0  \n",
       "4                 0.0                   0.0  "
      ]
     },
     "execution_count": 4,
     "metadata": {},
     "output_type": "execute_result"
    }
   ],
   "source": [
    "dataset.head()"
   ]
  },
  {
   "cell_type": "code",
   "execution_count": 5,
   "metadata": {},
   "outputs": [],
   "source": [
    "# drop the data column as it is not needed for training\n",
    "dataset = dataset.drop(['created_date'], axis=1)"
   ]
  },
  {
   "cell_type": "code",
   "execution_count": 6,
   "metadata": {},
   "outputs": [
    {
     "name": "stdout",
     "output_type": "stream",
     "text": [
      "<class 'pandas.core.frame.DataFrame'>\n",
      "RangeIndex: 238964 entries, 0 to 238963\n",
      "Data columns (total 12 columns):\n",
      " #   Column                  Non-Null Count   Dtype  \n",
      "---  ------                  --------------   -----  \n",
      " 0   city_tier               238964 non-null  float64\n",
      " 1   first_platform_c        238964 non-null  object \n",
      " 2   first_utm_medium_c      238964 non-null  object \n",
      " 3   first_utm_source_c      238964 non-null  object \n",
      " 4   total_leads_droppped    238964 non-null  float64\n",
      " 5   referred_lead           238964 non-null  float64\n",
      " 6   app_complete_flag       238964 non-null  int64  \n",
      " 7   assistance_interaction  238964 non-null  float64\n",
      " 8   career_interaction      238964 non-null  float64\n",
      " 9   payment_interaction     238964 non-null  float64\n",
      " 10  social_interaction      238964 non-null  float64\n",
      " 11  syllabus_interaction    238964 non-null  float64\n",
      "dtypes: float64(8), int64(1), object(3)\n",
      "memory usage: 21.9+ MB\n"
     ]
    }
   ],
   "source": [
    "dataset.info()"
   ]
  },
  {
   "cell_type": "markdown",
   "metadata": {
    "tags": []
   },
   "source": [
    "### 3 Setting up Environment: "
   ]
  },
  {
   "cell_type": "code",
   "execution_count": 7,
   "metadata": {},
   "outputs": [],
   "source": [
    "# create a connection and setup a SQLite database with the name \"lead_scoring_model_experimentation.db\" in \n",
    "# 'Assignment/02_training_pipeline/notebooks/' location"
   ]
  },
  {
   "cell_type": "code",
   "execution_count": 8,
   "metadata": {},
   "outputs": [
    {
     "name": "stdout",
     "output_type": "stream",
     "text": [
      "Database created at: /home/CodePro-Lead-Scoring2/02_training_pipeline/notebooks/lead_scoring_model_experimentation.db\n"
     ]
    }
   ],
   "source": [
    "import os\n",
    "import sqlite3\n",
    "\n",
    "# Get current directory (where notebook is running)\n",
    "db_dir = os.getcwd()  # this will be '02_training_pipeline/notebooks' if running from the notebook\n",
    "\n",
    "# Define DB name and full path\n",
    "db_name = 'lead_scoring_model_experimentation.db'\n",
    "db_path = os.path.join(db_dir, db_name)\n",
    "\n",
    "# Create a connection to the SQLite database\n",
    "conn = sqlite3.connect(db_path)\n",
    "\n",
    "# Print confirmation\n",
    "print(f\"Database created at: {db_path}\")\n",
    "\n",
    "# Close connection\n",
    "conn.close()"
   ]
  },
  {
   "cell_type": "code",
   "execution_count": null,
   "metadata": {},
   "outputs": [],
   "source": [
    "'''\n",
    "Now you need to start the MLflow server in a new terminal. \n",
    "Note: Before you start the MLflow server, create a folder named mlruns in the assignment directory.\n",
    "Now you need to run the command to start MLflow server such that:\n",
    "1. The lead_scoring_model_experimentation.db which you created above is used as the backend-store.\n",
    "2. mlruns folder is used as an artifact directory. \n",
    "3. The server runs on the port 6006.\n",
    "\n",
    "The steps to do so are as follows:\n",
    "Open a new terminal.\n",
    "Then go to the Assignment directory using the cd command. Type the command: cd Assignment/\n",
    "Create a folder named mlruns here. You can create this folder using either the command line or GUI. To create this folder via the command line run the command: mkdir ./mlruns\n",
    "Then, type the following command to start the MLflow server: \n",
    "mlflow server --backend-store-uri='sqlite:///./02_training_pipeline/notebooks/lead_scoring_model_experimentation.db' --default-artifact-root=\"./mlruns\" --port=6006 --host=0.0.0.0\n",
    "'''"
   ]
  },
  {
   "cell_type": "code",
   "execution_count": null,
   "metadata": {},
   "outputs": [],
   "source": [
    "# Once, your server is successfully running, create a mlflow tracking uri at \"http://0.0.0.0:6006\""
   ]
  },
  {
   "cell_type": "markdown",
   "metadata": {},
   "source": [
    "My working mlflow command\n",
    "\n",
    "mlflow ui \\\n",
    "  --backend-store-uri=\"sqlite:///02_training_pipeline/notebooks/lead_scoring_model_experimentation.db\" \\\n",
    "  --default-artifact-root=\"file:///home/CodePro-Lead-Scoring2/02_training_pipeline/notebooks/mlruns\" \\\n",
    "  --port=5001\n"
   ]
  },
  {
   "cell_type": "markdown",
   "metadata": {},
   "source": [
    "My Mlflow url\n",
    "\n",
    "https://76a7d32852700.notebooks.jarvislabs.net/proxy/5001/#/experiments/0"
   ]
  },
  {
   "cell_type": "code",
   "execution_count": null,
   "metadata": {
    "tags": []
   },
   "outputs": [],
   "source": [
    "# setup pycaret"
   ]
  },
  {
   "cell_type": "code",
   "execution_count": 11,
   "metadata": {},
   "outputs": [
    {
     "name": "stdout",
     "output_type": "stream",
     "text": [
      "Tracking URI: http://127.0.0.1:5001\n",
      "Artifact URI: file:///home/CodePro-Lead-Scoring2/02_training_pipeline/notebooks/mlruns/1/8982638149a34a7c821bac668311d72a/artifacts\n"
     ]
    }
   ],
   "source": [
    "import mlflow\n",
    "\n",
    "print(\"Tracking URI:\", mlflow.get_tracking_uri())\n",
    "print(\"Artifact URI:\", mlflow.get_artifact_uri())\n"
   ]
  },
  {
   "cell_type": "code",
   "execution_count": 9,
   "metadata": {},
   "outputs": [],
   "source": [
    "import mlflow\n",
    "mlflow.set_tracking_uri(\"http://127.0.0.1:5001\")"
   ]
  },
  {
   "cell_type": "code",
   "execution_count": 12,
   "metadata": {},
   "outputs": [
    {
     "data": {
      "text/html": [
       "<style type=\"text/css\">\n",
       "#T_3fd55 th {\n",
       "  text-align: left;\n",
       "}\n",
       "#T_3fd55_row0_col0, #T_3fd55_row0_col3, #T_3fd55_row0_col4, #T_3fd55_row1_col0, #T_3fd55_row1_col1, #T_3fd55_row1_col2, #T_3fd55_row1_col3, #T_3fd55_row1_col4, #T_3fd55_row1_col5, #T_3fd55_row1_col6, #T_3fd55_row1_col7, #T_3fd55_row2_col0, #T_3fd55_row2_col1, #T_3fd55_row2_col2, #T_3fd55_row2_col3, #T_3fd55_row2_col5, #T_3fd55_row2_col6, #T_3fd55_row2_col7, #T_3fd55_row3_col0, #T_3fd55_row3_col1, #T_3fd55_row3_col2, #T_3fd55_row3_col3, #T_3fd55_row3_col4, #T_3fd55_row3_col5, #T_3fd55_row3_col6, #T_3fd55_row3_col7, #T_3fd55_row4_col0, #T_3fd55_row4_col1, #T_3fd55_row4_col2, #T_3fd55_row4_col3, #T_3fd55_row4_col4, #T_3fd55_row4_col5, #T_3fd55_row4_col6, #T_3fd55_row4_col7, #T_3fd55_row5_col0, #T_3fd55_row5_col1, #T_3fd55_row5_col2, #T_3fd55_row5_col3, #T_3fd55_row5_col4, #T_3fd55_row5_col5, #T_3fd55_row5_col6, #T_3fd55_row5_col7, #T_3fd55_row6_col0, #T_3fd55_row6_col1, #T_3fd55_row6_col2, #T_3fd55_row6_col3, #T_3fd55_row6_col4, #T_3fd55_row6_col5, #T_3fd55_row6_col6, #T_3fd55_row6_col7, #T_3fd55_row7_col0, #T_3fd55_row7_col1, #T_3fd55_row7_col2, #T_3fd55_row7_col4, #T_3fd55_row7_col5, #T_3fd55_row7_col6, #T_3fd55_row7_col7 {\n",
       "  text-align: left;\n",
       "}\n",
       "#T_3fd55_row0_col1, #T_3fd55_row0_col2, #T_3fd55_row0_col5, #T_3fd55_row0_col6, #T_3fd55_row0_col7, #T_3fd55_row2_col4, #T_3fd55_row7_col3 {\n",
       "  text-align: left;\n",
       "  background-color: yellow;\n",
       "}\n",
       "#T_3fd55_row0_col8, #T_3fd55_row1_col8, #T_3fd55_row2_col8, #T_3fd55_row3_col8, #T_3fd55_row4_col8, #T_3fd55_row5_col8, #T_3fd55_row6_col8 {\n",
       "  text-align: left;\n",
       "  background-color: lightgrey;\n",
       "}\n",
       "#T_3fd55_row7_col8 {\n",
       "  text-align: left;\n",
       "  background-color: yellow;\n",
       "  background-color: lightgrey;\n",
       "}\n",
       "</style>\n",
       "<table id=\"T_3fd55\">\n",
       "  <thead>\n",
       "    <tr>\n",
       "      <th class=\"blank level0\" >&nbsp;</th>\n",
       "      <th id=\"T_3fd55_level0_col0\" class=\"col_heading level0 col0\" >Model</th>\n",
       "      <th id=\"T_3fd55_level0_col1\" class=\"col_heading level0 col1\" >Accuracy</th>\n",
       "      <th id=\"T_3fd55_level0_col2\" class=\"col_heading level0 col2\" >AUC</th>\n",
       "      <th id=\"T_3fd55_level0_col3\" class=\"col_heading level0 col3\" >Recall</th>\n",
       "      <th id=\"T_3fd55_level0_col4\" class=\"col_heading level0 col4\" >Prec.</th>\n",
       "      <th id=\"T_3fd55_level0_col5\" class=\"col_heading level0 col5\" >F1</th>\n",
       "      <th id=\"T_3fd55_level0_col6\" class=\"col_heading level0 col6\" >Kappa</th>\n",
       "      <th id=\"T_3fd55_level0_col7\" class=\"col_heading level0 col7\" >MCC</th>\n",
       "      <th id=\"T_3fd55_level0_col8\" class=\"col_heading level0 col8\" >TT (Sec)</th>\n",
       "    </tr>\n",
       "  </thead>\n",
       "  <tbody>\n",
       "    <tr>\n",
       "      <th id=\"T_3fd55_level0_row0\" class=\"row_heading level0 row0\" >lightgbm</th>\n",
       "      <td id=\"T_3fd55_row0_col0\" class=\"data row0 col0\" >Light Gradient Boosting Machine</td>\n",
       "      <td id=\"T_3fd55_row0_col1\" class=\"data row0 col1\" >0.7388</td>\n",
       "      <td id=\"T_3fd55_row0_col2\" class=\"data row0 col2\" >0.8211</td>\n",
       "      <td id=\"T_3fd55_row0_col3\" class=\"data row0 col3\" >0.8336</td>\n",
       "      <td id=\"T_3fd55_row0_col4\" class=\"data row0 col4\" >0.7025</td>\n",
       "      <td id=\"T_3fd55_row0_col5\" class=\"data row0 col5\" >0.7624</td>\n",
       "      <td id=\"T_3fd55_row0_col6\" class=\"data row0 col6\" >0.4771</td>\n",
       "      <td id=\"T_3fd55_row0_col7\" class=\"data row0 col7\" >0.4858</td>\n",
       "      <td id=\"T_3fd55_row0_col8\" class=\"data row0 col8\" >0.5990</td>\n",
       "    </tr>\n",
       "    <tr>\n",
       "      <th id=\"T_3fd55_level0_row1\" class=\"row_heading level0 row1\" >rf</th>\n",
       "      <td id=\"T_3fd55_row1_col0\" class=\"data row1 col0\" >Random Forest Classifier</td>\n",
       "      <td id=\"T_3fd55_row1_col1\" class=\"data row1 col1\" >0.7372</td>\n",
       "      <td id=\"T_3fd55_row1_col2\" class=\"data row1 col2\" >0.8188</td>\n",
       "      <td id=\"T_3fd55_row1_col3\" class=\"data row1 col3\" >0.8244</td>\n",
       "      <td id=\"T_3fd55_row1_col4\" class=\"data row1 col4\" >0.7037</td>\n",
       "      <td id=\"T_3fd55_row1_col5\" class=\"data row1 col5\" >0.7593</td>\n",
       "      <td id=\"T_3fd55_row1_col6\" class=\"data row1 col6\" >0.4738</td>\n",
       "      <td id=\"T_3fd55_row1_col7\" class=\"data row1 col7\" >0.4811</td>\n",
       "      <td id=\"T_3fd55_row1_col8\" class=\"data row1 col8\" >2.1580</td>\n",
       "    </tr>\n",
       "    <tr>\n",
       "      <th id=\"T_3fd55_level0_row2\" class=\"row_heading level0 row2\" >et</th>\n",
       "      <td id=\"T_3fd55_row2_col0\" class=\"data row2 col0\" >Extra Trees Classifier</td>\n",
       "      <td id=\"T_3fd55_row2_col1\" class=\"data row2 col1\" >0.7367</td>\n",
       "      <td id=\"T_3fd55_row2_col2\" class=\"data row2 col2\" >0.8179</td>\n",
       "      <td id=\"T_3fd55_row2_col3\" class=\"data row2 col3\" >0.8214</td>\n",
       "      <td id=\"T_3fd55_row2_col4\" class=\"data row2 col4\" >0.7042</td>\n",
       "      <td id=\"T_3fd55_row2_col5\" class=\"data row2 col5\" >0.7583</td>\n",
       "      <td id=\"T_3fd55_row2_col6\" class=\"data row2 col6\" >0.4729</td>\n",
       "      <td id=\"T_3fd55_row2_col7\" class=\"data row2 col7\" >0.4797</td>\n",
       "      <td id=\"T_3fd55_row2_col8\" class=\"data row2 col8\" >2.4370</td>\n",
       "    </tr>\n",
       "    <tr>\n",
       "      <th id=\"T_3fd55_level0_row3\" class=\"row_heading level0 row3\" >dt</th>\n",
       "      <td id=\"T_3fd55_row3_col0\" class=\"data row3 col0\" >Decision Tree Classifier</td>\n",
       "      <td id=\"T_3fd55_row3_col1\" class=\"data row3 col1\" >0.7364</td>\n",
       "      <td id=\"T_3fd55_row3_col2\" class=\"data row3 col2\" >0.8169</td>\n",
       "      <td id=\"T_3fd55_row3_col3\" class=\"data row3 col3\" >0.8209</td>\n",
       "      <td id=\"T_3fd55_row3_col4\" class=\"data row3 col4\" >0.7040</td>\n",
       "      <td id=\"T_3fd55_row3_col5\" class=\"data row3 col5\" >0.7580</td>\n",
       "      <td id=\"T_3fd55_row3_col6\" class=\"data row3 col6\" >0.4723</td>\n",
       "      <td id=\"T_3fd55_row3_col7\" class=\"data row3 col7\" >0.4791</td>\n",
       "      <td id=\"T_3fd55_row3_col8\" class=\"data row3 col8\" >0.4960</td>\n",
       "    </tr>\n",
       "    <tr>\n",
       "      <th id=\"T_3fd55_level0_row4\" class=\"row_heading level0 row4\" >lr</th>\n",
       "      <td id=\"T_3fd55_row4_col0\" class=\"data row4 col0\" >Logistic Regression</td>\n",
       "      <td id=\"T_3fd55_row4_col1\" class=\"data row4 col1\" >0.7165</td>\n",
       "      <td id=\"T_3fd55_row4_col2\" class=\"data row4 col2\" >0.7917</td>\n",
       "      <td id=\"T_3fd55_row4_col3\" class=\"data row4 col3\" >0.8017</td>\n",
       "      <td id=\"T_3fd55_row4_col4\" class=\"data row4 col4\" >0.6869</td>\n",
       "      <td id=\"T_3fd55_row4_col5\" class=\"data row4 col5\" >0.7398</td>\n",
       "      <td id=\"T_3fd55_row4_col6\" class=\"data row4 col6\" >0.4325</td>\n",
       "      <td id=\"T_3fd55_row4_col7\" class=\"data row4 col7\" >0.4387</td>\n",
       "      <td id=\"T_3fd55_row4_col8\" class=\"data row4 col8\" >3.9280</td>\n",
       "    </tr>\n",
       "    <tr>\n",
       "      <th id=\"T_3fd55_level0_row5\" class=\"row_heading level0 row5\" >ridge</th>\n",
       "      <td id=\"T_3fd55_row5_col0\" class=\"data row5 col0\" >Ridge Classifier</td>\n",
       "      <td id=\"T_3fd55_row5_col1\" class=\"data row5 col1\" >0.7150</td>\n",
       "      <td id=\"T_3fd55_row5_col2\" class=\"data row5 col2\" >0.0000</td>\n",
       "      <td id=\"T_3fd55_row5_col3\" class=\"data row5 col3\" >0.8134</td>\n",
       "      <td id=\"T_3fd55_row5_col4\" class=\"data row5 col4\" >0.6815</td>\n",
       "      <td id=\"T_3fd55_row5_col5\" class=\"data row5 col5\" >0.7416</td>\n",
       "      <td id=\"T_3fd55_row5_col6\" class=\"data row5 col6\" >0.4294</td>\n",
       "      <td id=\"T_3fd55_row5_col7\" class=\"data row5 col7\" >0.4378</td>\n",
       "      <td id=\"T_3fd55_row5_col8\" class=\"data row5 col8\" >0.2120</td>\n",
       "    </tr>\n",
       "    <tr>\n",
       "      <th id=\"T_3fd55_level0_row6\" class=\"row_heading level0 row6\" >lda</th>\n",
       "      <td id=\"T_3fd55_row6_col0\" class=\"data row6 col0\" >Linear Discriminant Analysis</td>\n",
       "      <td id=\"T_3fd55_row6_col1\" class=\"data row6 col1\" >0.7150</td>\n",
       "      <td id=\"T_3fd55_row6_col2\" class=\"data row6 col2\" >0.7904</td>\n",
       "      <td id=\"T_3fd55_row6_col3\" class=\"data row6 col3\" >0.8134</td>\n",
       "      <td id=\"T_3fd55_row6_col4\" class=\"data row6 col4\" >0.6815</td>\n",
       "      <td id=\"T_3fd55_row6_col5\" class=\"data row6 col5\" >0.7416</td>\n",
       "      <td id=\"T_3fd55_row6_col6\" class=\"data row6 col6\" >0.4294</td>\n",
       "      <td id=\"T_3fd55_row6_col7\" class=\"data row6 col7\" >0.4378</td>\n",
       "      <td id=\"T_3fd55_row6_col8\" class=\"data row6 col8\" >1.0650</td>\n",
       "    </tr>\n",
       "    <tr>\n",
       "      <th id=\"T_3fd55_level0_row7\" class=\"row_heading level0 row7\" >nb</th>\n",
       "      <td id=\"T_3fd55_row7_col0\" class=\"data row7 col0\" >Naive Bayes</td>\n",
       "      <td id=\"T_3fd55_row7_col1\" class=\"data row7 col1\" >0.6785</td>\n",
       "      <td id=\"T_3fd55_row7_col2\" class=\"data row7 col2\" >0.7382</td>\n",
       "      <td id=\"T_3fd55_row7_col3\" class=\"data row7 col3\" >0.8535</td>\n",
       "      <td id=\"T_3fd55_row7_col4\" class=\"data row7 col4\" >0.6339</td>\n",
       "      <td id=\"T_3fd55_row7_col5\" class=\"data row7 col5\" >0.7275</td>\n",
       "      <td id=\"T_3fd55_row7_col6\" class=\"data row7 col6\" >0.3557</td>\n",
       "      <td id=\"T_3fd55_row7_col7\" class=\"data row7 col7\" >0.3796</td>\n",
       "      <td id=\"T_3fd55_row7_col8\" class=\"data row7 col8\" >0.1520</td>\n",
       "    </tr>\n",
       "  </tbody>\n",
       "</table>\n"
      ],
      "text/plain": [
       "<pandas.io.formats.style.Styler at 0x7fbb6d21b2e0>"
      ]
     },
     "metadata": {},
     "output_type": "display_data"
    }
   ],
   "source": [
    "from pycaret.classification import *\n",
    "\n",
    "clf1 = setup(\n",
    "    data=dataset,\n",
    "    target='app_complete_flag',\n",
    "    session_id=42,\n",
    "    categorical_features=['first_platform_c', 'first_utm_medium_c', 'first_utm_source_c'],\n",
    "    normalize=True,\n",
    "    transformation=True,\n",
    "    silent=True,\n",
    "    use_gpu=True,\n",
    "    log_experiment=True,\n",
    "    experiment_name='lead_scoring_baseline',\n",
    "    log_plots=True,\n",
    "    log_profile=True\n",
    ")\n",
    "\n",
    "best_model = compare_models(sort='Accuracy', exclude=['gbc', 'knn', 'qda', 'dummy', 'svm', 'ada'])\n"
   ]
  },
  {
   "cell_type": "markdown",
   "metadata": {
    "tags": []
   },
   "source": [
    "### 4 : Model Experimentation with pycaret"
   ]
  },
  {
   "cell_type": "code",
   "execution_count": null,
   "metadata": {},
   "outputs": [],
   "source": [
    "# create a experimentation with pycaret and exclude ['gbc','knn','qda', 'dummy', 'svm', 'ada']"
   ]
  },
  {
   "cell_type": "code",
   "execution_count": null,
   "metadata": {},
   "outputs": [],
   "source": [
    "# create a model which gives the highest accuracy"
   ]
  },
  {
   "cell_type": "code",
   "execution_count": null,
   "metadata": {},
   "outputs": [],
   "source": [
    "# create feature importance plot"
   ]
  },
  {
   "cell_type": "markdown",
   "metadata": {
    "tags": []
   },
   "source": [
    "### 5 : Model Experimentation after dropping features"
   ]
  },
  {
   "cell_type": "markdown",
   "metadata": {},
   "source": [
    "From the above feature tests we can claerly see that some of the features are not significant. We will now drop all the insignificant features and select only the significant ones.\n",
    "The list of the significant features is \n",
    "['total_leads_droppped', 'city_tier', 'referred_lead', 'app_complete_flag', 'first_platform_c', 'first_utm_medium_c', 'first_utm_source_c'].\n",
    "So now you will train your model with onlly these features.\n",
    "\n",
    "Also note that in our previous experiments we saw that tree based models are our top performers. In case of tree based models we do not require transformationss normalization, scaling etc. So make sure that you use setup pycaret in the proper way. i.e, make sure that you use normalize = False and transformation = False."
   ]
  },
  {
   "cell_type": "code",
   "execution_count": null,
   "metadata": {},
   "outputs": [],
   "source": [
    "# \n",
    "# ['total_leads_droppped', 'city_tier', 'referred_lead', 'app_complete_flag', 'first_platform_c', 'first_utm_medium_c', 'first_utm_source_c']\n",
    "#\n",
    "# Train the model using the features listed above. Since we are using tree models we do not require any transformaions \n",
    "# such as normalization, scaling etc.So make sure that you use setup pycaret in the proper way. i.e, make sure that you use \n",
    "# normalize = False and transformation = False."
   ]
  },
  {
   "cell_type": "code",
   "execution_count": null,
   "metadata": {
    "tags": []
   },
   "outputs": [],
   "source": [
    "# create a experimentation with pycaret and exclude ['gbc','knn','qda', 'dummy', 'svm', 'ada']. "
   ]
  },
  {
   "cell_type": "code",
   "execution_count": null,
   "metadata": {},
   "outputs": [],
   "source": [
    "# You should get lightgbm as the best performing model. So now we will train a lightGBM model manually using pycaret"
   ]
  },
  {
   "cell_type": "code",
   "execution_count": null,
   "metadata": {
    "tags": []
   },
   "outputs": [],
   "source": [
    "# Tune the hyper parameters of the lightgbm model using optuna on 10 folds and optimise AUC as that was our system metric, \n",
    "# hence we will optimise AUC"
   ]
  },
  {
   "cell_type": "code",
   "execution_count": null,
   "metadata": {},
   "outputs": [],
   "source": [
    "# Print the final models configuration so that we can use it in the model retraining pipeline "
   ]
  }
 ],
 "metadata": {
  "accelerator": "GPU",
  "colab": {
   "collapsed_sections": [],
   "name": "Model-AfterFeature.ipynb",
   "provenance": []
  },
  "kernelspec": {
   "display_name": "Python 3",
   "language": "python",
   "name": "python3"
  },
  "language_info": {
   "codemirror_mode": {
    "name": "ipython",
    "version": 3
   },
   "file_extension": ".py",
   "mimetype": "text/x-python",
   "name": "python",
   "nbconvert_exporter": "python",
   "pygments_lexer": "ipython3",
   "version": "3.8.10"
  },
  "vscode": {
   "interpreter": {
    "hash": "7cd94b908b2292e9d2da2e5e75d12d6a294435c608eaff704093f5bae14b723d"
   }
  },
  "widgets": {
   "application/vnd.jupyter.widget-state+json": {
    "144f839f29354f668dda71aa605216ce": {
     "model_module": "@jupyter-widgets/controls",
     "model_module_version": "1.5.0",
     "model_name": "IntProgressModel",
     "state": {
      "_dom_classes": [],
      "_model_module": "@jupyter-widgets/controls",
      "_model_module_version": "1.5.0",
      "_model_name": "IntProgressModel",
      "_view_count": null,
      "_view_module": "@jupyter-widgets/controls",
      "_view_module_version": "1.5.0",
      "_view_name": "ProgressView",
      "bar_style": "",
      "description": "Processing: ",
      "description_tooltip": null,
      "layout": "IPY_MODEL_383709fd8fda47ceadbf243d18428cf8",
      "max": 74,
      "min": 0,
      "orientation": "horizontal",
      "style": "IPY_MODEL_898da34f06fa4fd3be6fc028d246a379",
      "value": 74
     }
    },
    "383709fd8fda47ceadbf243d18428cf8": {
     "model_module": "@jupyter-widgets/base",
     "model_module_version": "1.2.0",
     "model_name": "LayoutModel",
     "state": {
      "_model_module": "@jupyter-widgets/base",
      "_model_module_version": "1.2.0",
      "_model_name": "LayoutModel",
      "_view_count": null,
      "_view_module": "@jupyter-widgets/base",
      "_view_module_version": "1.2.0",
      "_view_name": "LayoutView",
      "align_content": null,
      "align_items": null,
      "align_self": null,
      "border": null,
      "bottom": null,
      "display": null,
      "flex": null,
      "flex_flow": null,
      "grid_area": null,
      "grid_auto_columns": null,
      "grid_auto_flow": null,
      "grid_auto_rows": null,
      "grid_column": null,
      "grid_gap": null,
      "grid_row": null,
      "grid_template_areas": null,
      "grid_template_columns": null,
      "grid_template_rows": null,
      "height": null,
      "justify_content": null,
      "justify_items": null,
      "left": null,
      "margin": null,
      "max_height": null,
      "max_width": null,
      "min_height": null,
      "min_width": null,
      "object_fit": null,
      "object_position": null,
      "order": null,
      "overflow": null,
      "overflow_x": null,
      "overflow_y": null,
      "padding": null,
      "right": null,
      "top": null,
      "visibility": null,
      "width": null
     }
    },
    "8239e3c9a1714d16a804cdf4239ec7f3": {
     "model_module": "@jupyter-widgets/controls",
     "model_module_version": "1.5.0",
     "model_name": "ProgressStyleModel",
     "state": {
      "_model_module": "@jupyter-widgets/controls",
      "_model_module_version": "1.5.0",
      "_model_name": "ProgressStyleModel",
      "_view_count": null,
      "_view_module": "@jupyter-widgets/base",
      "_view_module_version": "1.2.0",
      "_view_name": "StyleView",
      "bar_color": null,
      "description_width": ""
     }
    },
    "898da34f06fa4fd3be6fc028d246a379": {
     "model_module": "@jupyter-widgets/controls",
     "model_module_version": "1.5.0",
     "model_name": "ProgressStyleModel",
     "state": {
      "_model_module": "@jupyter-widgets/controls",
      "_model_module_version": "1.5.0",
      "_model_name": "ProgressStyleModel",
      "_view_count": null,
      "_view_module": "@jupyter-widgets/base",
      "_view_module_version": "1.2.0",
      "_view_name": "StyleView",
      "bar_color": null,
      "description_width": ""
     }
    },
    "94fbf501ef6e499387332ad398f2d3ff": {
     "model_module": "@jupyter-widgets/base",
     "model_module_version": "1.2.0",
     "model_name": "LayoutModel",
     "state": {
      "_model_module": "@jupyter-widgets/base",
      "_model_module_version": "1.2.0",
      "_model_name": "LayoutModel",
      "_view_count": null,
      "_view_module": "@jupyter-widgets/base",
      "_view_module_version": "1.2.0",
      "_view_name": "LayoutView",
      "align_content": null,
      "align_items": null,
      "align_self": null,
      "border": null,
      "bottom": null,
      "display": null,
      "flex": null,
      "flex_flow": null,
      "grid_area": null,
      "grid_auto_columns": null,
      "grid_auto_flow": null,
      "grid_auto_rows": null,
      "grid_column": null,
      "grid_gap": null,
      "grid_row": null,
      "grid_template_areas": null,
      "grid_template_columns": null,
      "grid_template_rows": null,
      "height": null,
      "justify_content": null,
      "justify_items": null,
      "left": null,
      "margin": null,
      "max_height": null,
      "max_width": null,
      "min_height": null,
      "min_width": null,
      "object_fit": null,
      "object_position": null,
      "order": null,
      "overflow": null,
      "overflow_x": null,
      "overflow_y": null,
      "padding": null,
      "right": null,
      "top": null,
      "visibility": null,
      "width": null
     }
    },
    "9e278bc3113d41398166df961701e9fb": {
     "model_module": "@jupyter-widgets/controls",
     "model_module_version": "1.5.0",
     "model_name": "IntProgressModel",
     "state": {
      "_dom_classes": [],
      "_model_module": "@jupyter-widgets/controls",
      "_model_module_version": "1.5.0",
      "_model_name": "IntProgressModel",
      "_view_count": null,
      "_view_module": "@jupyter-widgets/controls",
      "_view_module_version": "1.5.0",
      "_view_name": "ProgressView",
      "bar_style": "",
      "description": "Processing: ",
      "description_tooltip": null,
      "layout": "IPY_MODEL_a048df655c51475fb7369eb70702a575",
      "max": 4,
      "min": 0,
      "orientation": "horizontal",
      "style": "IPY_MODEL_e52bcc4a1c3046bfb9e88d9e2d2218dd",
      "value": 4
     }
    },
    "a048df655c51475fb7369eb70702a575": {
     "model_module": "@jupyter-widgets/base",
     "model_module_version": "1.2.0",
     "model_name": "LayoutModel",
     "state": {
      "_model_module": "@jupyter-widgets/base",
      "_model_module_version": "1.2.0",
      "_model_name": "LayoutModel",
      "_view_count": null,
      "_view_module": "@jupyter-widgets/base",
      "_view_module_version": "1.2.0",
      "_view_name": "LayoutView",
      "align_content": null,
      "align_items": null,
      "align_self": null,
      "border": null,
      "bottom": null,
      "display": null,
      "flex": null,
      "flex_flow": null,
      "grid_area": null,
      "grid_auto_columns": null,
      "grid_auto_flow": null,
      "grid_auto_rows": null,
      "grid_column": null,
      "grid_gap": null,
      "grid_row": null,
      "grid_template_areas": null,
      "grid_template_columns": null,
      "grid_template_rows": null,
      "height": null,
      "justify_content": null,
      "justify_items": null,
      "left": null,
      "margin": null,
      "max_height": null,
      "max_width": null,
      "min_height": null,
      "min_width": null,
      "object_fit": null,
      "object_position": null,
      "order": null,
      "overflow": null,
      "overflow_x": null,
      "overflow_y": null,
      "padding": null,
      "right": null,
      "top": null,
      "visibility": null,
      "width": null
     }
    },
    "a18be2b61ba5486e9c132f9e5aa0e09e": {
     "model_module": "@jupyter-widgets/controls",
     "model_module_version": "1.5.0",
     "model_name": "IntProgressModel",
     "state": {
      "_dom_classes": [],
      "_model_module": "@jupyter-widgets/controls",
      "_model_module_version": "1.5.0",
      "_model_name": "IntProgressModel",
      "_view_count": null,
      "_view_module": "@jupyter-widgets/controls",
      "_view_module_version": "1.5.0",
      "_view_name": "ProgressView",
      "bar_style": "",
      "description": "Processing: ",
      "description_tooltip": null,
      "layout": "IPY_MODEL_94fbf501ef6e499387332ad398f2d3ff",
      "max": 3,
      "min": 0,
      "orientation": "horizontal",
      "style": "IPY_MODEL_8239e3c9a1714d16a804cdf4239ec7f3",
      "value": 3
     }
    },
    "e52bcc4a1c3046bfb9e88d9e2d2218dd": {
     "model_module": "@jupyter-widgets/controls",
     "model_module_version": "1.5.0",
     "model_name": "ProgressStyleModel",
     "state": {
      "_model_module": "@jupyter-widgets/controls",
      "_model_module_version": "1.5.0",
      "_model_name": "ProgressStyleModel",
      "_view_count": null,
      "_view_module": "@jupyter-widgets/base",
      "_view_module_version": "1.2.0",
      "_view_name": "StyleView",
      "bar_color": null,
      "description_width": ""
     }
    }
   }
  }
 },
 "nbformat": 4,
 "nbformat_minor": 4
}
